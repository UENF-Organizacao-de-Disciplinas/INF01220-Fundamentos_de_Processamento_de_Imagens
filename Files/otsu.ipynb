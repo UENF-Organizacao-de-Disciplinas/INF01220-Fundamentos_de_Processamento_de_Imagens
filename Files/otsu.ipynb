{
 "cells": [
  {
   "cell_type": "code",
   "execution_count": 70,
   "metadata": {},
   "outputs": [],
   "source": [
    "# Definindo Constantes\n",
    "\n",
    "histograma = [20,30,35,40,36,30,26,16,20,28,36,45,50,38,28,34,40,28]\n",
    "n = sum(histograma)     # 580\n",
    "L = len(histograma)-1   # 17"
   ]
  },
  {
   "cell_type": "code",
   "execution_count": 71,
   "metadata": {},
   "outputs": [],
   "source": [
    "# Definindo equações\n",
    "\n",
    "def Pr(q):\n",
    "    return histograma[q]/n\n",
    "\n",
    "def calc_ur():\n",
    "    soma = 0\n",
    "    for q in range(0, L):\n",
    "        soma += q*Pr(q)\n",
    "    return soma\n",
    "\n",
    "def calc_w0(k):\n",
    "    soma = 0\n",
    "    for q in range(0, k-1):\n",
    "        soma += Pr(q)\n",
    "    return soma\n",
    "\n",
    "def calc_u0(k):\n",
    "    w0 = calc_w0(k)\n",
    "    soma = 0\n",
    "    for q in range(0, k-1):\n",
    "        soma += q*Pr(q)/w0\n",
    "    return soma\n",
    "\n",
    "def calc_w1(k):\n",
    "    soma = 0\n",
    "    for q in range(k, L):\n",
    "        soma += Pr(q)\n",
    "    return soma\n",
    "\n",
    "def calc_u1(k):\n",
    "    w1 = calc_w1(k)\n",
    "    soma = 0\n",
    "    for q in range(k, L):\n",
    "        soma += q*Pr(q)/w1\n",
    "    return soma\n",
    "\n",
    "def calc_vv(k):\n",
    "    w0  = calc_w0(k)\n",
    "    w1  = calc_w1(k)\n",
    "    u0 = calc_u0(k)\n",
    "    u1 = calc_u1(k)\n",
    "    ur = calc_ur()\n",
    "    vv = w0*(u0-ur)*(u0-ur)+w1*(u1-ur)*(u1-ur)\n",
    "    return vv"
   ]
  },
  {
   "cell_type": "code",
   "execution_count": 72,
   "metadata": {},
   "outputs": [],
   "source": [
    "# Calc otsu geral\n",
    "\n",
    "def calc_otsu():\n",
    "    kk = 0\n",
    "    var = 0\n",
    "\n",
    "    for k in range (1, L):\n",
    "        vv = calc_vv(k)\n",
    "        if var < vv:\n",
    "            var = vv\n",
    "            kk = k\n",
    "    return kk"
   ]
  },
  {
   "cell_type": "code",
   "execution_count": 73,
   "metadata": {},
   "outputs": [
    {
     "name": "stdout",
     "output_type": "stream",
     "text": [
      "7\n"
     ]
    }
   ],
   "source": [
    "k_otimo = calc_otsu()\n",
    "print(k_otimo)"
   ]
  }
 ],
 "metadata": {
  "kernelspec": {
   "display_name": "Python 3",
   "language": "python",
   "name": "python3"
  },
  "language_info": {
   "codemirror_mode": {
    "name": "ipython",
    "version": 3
   },
   "file_extension": ".py",
   "mimetype": "text/x-python",
   "name": "python",
   "nbconvert_exporter": "python",
   "pygments_lexer": "ipython3",
   "version": "3.10.10"
  },
  "orig_nbformat": 4
 },
 "nbformat": 4,
 "nbformat_minor": 2
}
